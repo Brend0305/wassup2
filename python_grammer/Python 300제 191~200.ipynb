{
 "cells": [
  {
   "cell_type": "code",
   "execution_count": null,
   "id": "42801c4f",
   "metadata": {},
   "outputs": [],
   "source": []
  },
  {
   "cell_type": "code",
   "execution_count": 4,
   "id": "83a57f69",
   "metadata": {},
   "outputs": [
    {
     "name": "stdout",
     "output_type": "stream",
     "text": [
      "2000.28\n",
      "3050.427\n",
      "2050.287\n",
      "1980.2772\n",
      "7501.05\n",
      "2050.287\n",
      "2050.287\n",
      "1980.2772\n",
      "15452.163\n",
      "15052.107\n",
      "15552.177\n",
      "14902.086\n"
     ]
    }
   ],
   "source": [
    "#191\n",
    "\n",
    "data = [[ 2000,  3050,  2050,  1980],[ 7500,  2050,  2050,  1980],[15450, 15050, 15550, 14900]]\n",
    "\n",
    "for day in data:\n",
    "    for price in day:\n",
    "        print(price + (price * 0.014 * 0.01))"
   ]
  },
  {
   "cell_type": "code",
   "execution_count": 5,
   "id": "5a4df23b",
   "metadata": {},
   "outputs": [
    {
     "name": "stdout",
     "output_type": "stream",
     "text": [
      "2000.28\n",
      "3050.427\n",
      "2050.287\n",
      "1980.2772\n",
      "----\n",
      "7501.05\n",
      "2050.287\n",
      "2050.287\n",
      "1980.2772\n",
      "----\n",
      "15452.163\n",
      "15052.107\n",
      "15552.177\n",
      "14902.086\n",
      "----\n"
     ]
    }
   ],
   "source": [
    "#192\n",
    "\n",
    "data = [[ 2000,  3050,  2050,  1980],[ 7500,  2050,  2050,  1980],[15450, 15050, 15550, 14900]]\n",
    "\n",
    "for day in data:\n",
    "    for price in day:\n",
    "        print(price + (price * 0.014 * 0.01))\n",
    "    print(\"----\")"
   ]
  },
  {
   "cell_type": "markdown",
   "id": "438145f5",
   "metadata": {},
   "source": [
    "#193\n",
    "192 번 문제의 결괏값을 result 이름의 리스트에 1차원 배열로 저장하라."
   ]
  },
  {
   "cell_type": "code",
   "execution_count": 7,
   "id": "e06e4e59",
   "metadata": {},
   "outputs": [
    {
     "name": "stdout",
     "output_type": "stream",
     "text": [
      "[2000.28, 3050.427, 2050.287, 1980.2772, 7501.05, 2050.287, 2050.287, 1980.2772, 15452.163, 15052.107, 15552.177, 14902.086]\n"
     ]
    }
   ],
   "source": [
    "data = [[ 2000,  3050,  2050,  1980],[ 7500,  2050,  2050,  1980],[15450, 15050, 15550, 14900]]\n",
    "\n",
    "result = []\n",
    "for day in data:\n",
    "    for price in day:\n",
    "        result.append(price + (price * 0.014 * 0.01))\n",
    "print(result)"
   ]
  },
  {
   "cell_type": "markdown",
   "id": "a92ca9fc",
   "metadata": {},
   "source": [
    "#194\n",
    "191번 문제의 결괏값을 result 이름의 리스트에 2차원 배열로 저장하라. 저장 포맷은 아래와 같다. \n",
    "각 행에 대한 데이터끼리 리스트에 저장되어야 한다."
   ]
  },
  {
   "cell_type": "code",
   "execution_count": 14,
   "id": "8162994f",
   "metadata": {},
   "outputs": [
    {
     "name": "stdout",
     "output_type": "stream",
     "text": [
      "[[2000.28, 3050.427, 2050.287, 1980.2772], [7501.05, 2050.287, 2050.287, 1980.2772], [15452.163, 15052.107, 15552.177, 14902.086]]\n"
     ]
    }
   ],
   "source": [
    "data = [[ 2000,  3050,  2050,  1980],[ 7500,  2050,  2050,  1980],[15450, 15050, 15550, 14900]]\n",
    "\n",
    "result = []\n",
    "for day in data:\n",
    "    day_price = []\n",
    "    \n",
    "    for price in day:\n",
    "        new_price = price + (price * 0.014 * 0.01)\n",
    "        day_price.append(new_price)\n",
    "        \n",
    "    result.append(day_price)\n",
    "\n",
    "print(result)"
   ]
  },
  {
   "cell_type": "code",
   "execution_count": 16,
   "id": "fd9dc20d",
   "metadata": {},
   "outputs": [
    {
     "name": "stdout",
     "output_type": "stream",
     "text": [
      "100\n",
      "190\n",
      "310\n"
     ]
    }
   ],
   "source": [
    "#195\n",
    "\n",
    "ohlc = [[\"open\", \"high\", \"low\", \"close\"],\n",
    "        [100, 110, 70, 100],\n",
    "        [200, 210, 180, 190],\n",
    "        [300, 310, 300, 310]]\n",
    "\n",
    "for day_price in ohlc[1:]:\n",
    "    print(day_price[3])"
   ]
  },
  {
   "cell_type": "markdown",
   "id": "e88964b1",
   "metadata": {},
   "source": [
    "#196\n",
    "ohlc 리스트에는 시가(open), 고가 (high), 저가 (low) , 종가(close)가 날짜별로 저장돼 있다. \n",
    "종가가 150원보다 큰경우에만 종가를 출력하라."
   ]
  },
  {
   "cell_type": "code",
   "execution_count": 17,
   "id": "eb8f8387",
   "metadata": {},
   "outputs": [
    {
     "name": "stdout",
     "output_type": "stream",
     "text": [
      "190\n",
      "310\n"
     ]
    }
   ],
   "source": [
    "ohlc = [[\"open\", \"high\", \"low\", \"close\"],\n",
    "        [100, 110, 70, 100],\n",
    "        [200, 210, 180, 190],\n",
    "        [300, 310, 300, 310]]\n",
    "\n",
    "for day_price in ohlc[1:]:\n",
    "    close = day_price[3]\n",
    "    if close > 150:\n",
    "        print(close)"
   ]
  },
  {
   "cell_type": "markdown",
   "id": "e3580e7f",
   "metadata": {},
   "source": [
    "#197\n",
    "ohlc 리스트에는 시가(open), 고가 (high), 저가 (low) , 종가(close)가 날짜별로 저장돼 있다. \n",
    "종가가 시가 보다 크거나 같은 경우에만 종가를 출력하라."
   ]
  },
  {
   "cell_type": "code",
   "execution_count": 18,
   "id": "a1b97a21",
   "metadata": {},
   "outputs": [
    {
     "name": "stdout",
     "output_type": "stream",
     "text": [
      "100\n",
      "310\n"
     ]
    }
   ],
   "source": [
    "ohlc = [[\"open\", \"high\", \"low\", \"close\"],\n",
    "        [100, 110, 70, 100],\n",
    "        [200, 210, 180, 190],\n",
    "        [300, 310, 300, 310]]\n",
    "\n",
    "for day_price in ohlc[1:]:\n",
    "    open = day_price[0]\n",
    "    close = day_price[3]\n",
    "    if close >= open:\n",
    "        print(close)"
   ]
  },
  {
   "cell_type": "markdown",
   "id": "500c6966",
   "metadata": {},
   "source": [
    "#198\n",
    "ohlc 리스트에는 시가(open), 고가 (high), 저가 (low) , 종가(close)가 날짜별로 저장돼 있다. 고가와 저가의 차이를 변동폭으로 정의할 때 변동폭을 volatility 이름의 리스트에 저장하라. # 변동폭: 고가-저가 # volatility =[]"
   ]
  },
  {
   "cell_type": "code",
   "execution_count": 22,
   "id": "afa10ecf",
   "metadata": {},
   "outputs": [
    {
     "name": "stdout",
     "output_type": "stream",
     "text": [
      "[40, 30, 10]\n"
     ]
    }
   ],
   "source": [
    "ohlc = [[\"open\", \"high\", \"low\", \"close\"],\n",
    "        [100, 110, 70, 100],\n",
    "        [200, 210, 180, 190],\n",
    "        [300, 310, 300, 310]]\n",
    "\n",
    "volatility = []\n",
    "for day_price in ohlc[1:]:\n",
    "    high = day_price[1]\n",
    "    low = day_price[2]\n",
    "    diff = high-low\n",
    "    volatility.append(diff)\n",
    "    \n",
    "print(volatility)"
   ]
  },
  {
   "cell_type": "markdown",
   "id": "b944c25e",
   "metadata": {},
   "source": [
    "#199\n",
    "리스트에는 3일 간의 ohlc 데이터가 저장돼 있다. 종가가 시가보다 높은 날의 변동성 (고가 - 저가)을 화면에 출력하라."
   ]
  },
  {
   "cell_type": "code",
   "execution_count": 26,
   "id": "63c1e21f",
   "metadata": {},
   "outputs": [
    {
     "name": "stdout",
     "output_type": "stream",
     "text": [
      "10\n"
     ]
    }
   ],
   "source": [
    "ohlc = [[\"open\", \"high\", \"low\", \"close\"],\n",
    "        [100, 110, 70, 100],\n",
    "        [200, 210, 180, 190],\n",
    "        [300, 310, 300, 310]]\n",
    "\n",
    "for day_price in ohlc[1:]:\n",
    "    open, high, low, close = day_price\n",
    "    if close > open:\n",
    "        print(high-low)"
   ]
  },
  {
   "cell_type": "markdown",
   "id": "60dc4816",
   "metadata": {},
   "source": [
    "#200\n",
    "리스트에는 3일 간의 ohlc 데이터가 저장돼 있다. 시가에 매수해서 종가에 매도 했을 경우 총 수익금을 계산하라.\n",
    "각 거래일 수익금 : 시가 - 종가 \n",
    "총 수익금"
   ]
  },
  {
   "cell_type": "code",
   "execution_count": 27,
   "id": "5899123e",
   "metadata": {},
   "outputs": [
    {
     "name": "stdout",
     "output_type": "stream",
     "text": [
      "0\n"
     ]
    }
   ],
   "source": [
    "ohlc = [[\"open\", \"high\", \"low\", \"close\"],\n",
    "        [100, 110, 70, 100],\n",
    "        [200, 210, 180, 190],\n",
    "        [300, 310, 300, 310]]\n",
    "\n",
    "total_profit = 0\n",
    "\n",
    "for day_price in ohlc[1:]:\n",
    "    profit = day_price[0] - day_price[3]\n",
    "    total_profit += profit\n",
    "print(total_profit)\n"
   ]
  },
  {
   "cell_type": "code",
   "execution_count": null,
   "id": "e2d94bc6",
   "metadata": {},
   "outputs": [],
   "source": []
  },
  {
   "cell_type": "code",
   "execution_count": null,
   "id": "89166cc0",
   "metadata": {},
   "outputs": [],
   "source": []
  }
 ],
 "metadata": {
  "kernelspec": {
   "display_name": "Python 3 (ipykernel)",
   "language": "python",
   "name": "python3"
  },
  "language_info": {
   "codemirror_mode": {
    "name": "ipython",
    "version": 3
   },
   "file_extension": ".py",
   "mimetype": "text/x-python",
   "name": "python",
   "nbconvert_exporter": "python",
   "pygments_lexer": "ipython3",
   "version": "3.11.5"
  }
 },
 "nbformat": 4,
 "nbformat_minor": 5
}
