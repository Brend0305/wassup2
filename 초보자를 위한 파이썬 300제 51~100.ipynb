{
 "cells": [
  {
   "cell_type": "markdown",
   "id": "2c363ce2",
   "metadata": {},
   "source": [
    "## 051 리스트 생성"
   ]
  },
  {
   "cell_type": "code",
   "execution_count": 2,
   "id": "b61871e9",
   "metadata": {},
   "outputs": [],
   "source": [
    "movie_rank = [\"닥터 스트레인지\", \"스플릿\", \"럭키\"]"
   ]
  },
  {
   "cell_type": "markdown",
   "id": "4c2f90e1",
   "metadata": {},
   "source": [
    "### 052 리스트에 원소 추가 "
   ]
  },
  {
   "cell_type": "code",
   "execution_count": 4,
   "id": "4df0bc6c",
   "metadata": {},
   "outputs": [
    {
     "name": "stdout",
     "output_type": "stream",
     "text": [
      "['닥터 스트레인지', '스플릿', '럭키', '배트맨']\n"
     ]
    }
   ],
   "source": [
    "movie_rank = [\"닥터 스트레인지\", \"스플릿\", \"럭키\"]\n",
    "movie_rank.append(\"배트맨\")\n",
    "print(movie_rank)"
   ]
  },
  {
   "cell_type": "markdown",
   "id": "58440c1b",
   "metadata": {},
   "source": [
    "### 053 movie_rank 리스트에는 아래와 같이 네 개의 영화 제목이 바인딩되어 있다. \"슈퍼맨\"을 \"닥터 스트레인지\"와 \"스플릿\" 사이에 추가하라."
   ]
  },
  {
   "cell_type": "code",
   "execution_count": 5,
   "id": "a88ca2a2",
   "metadata": {},
   "outputs": [
    {
     "name": "stdout",
     "output_type": "stream",
     "text": [
      "['닥터 스트레인지', '슈퍼맨', '스플릿', '럭키']\n"
     ]
    }
   ],
   "source": [
    "movie_rank = [\"닥터 스트레인지\", \"스플릿\", \"럭키\"]\n",
    "movie_rank.insert(1, \"슈퍼맨\")\n",
    "print(movie_rank)"
   ]
  },
  {
   "cell_type": "markdown",
   "id": "44eecbe4",
   "metadata": {},
   "source": [
    "### 054 movie_rank 리스트에서 '럭키'를 삭제하라"
   ]
  },
  {
   "cell_type": "code",
   "execution_count": 10,
   "id": "0c915128",
   "metadata": {},
   "outputs": [
    {
     "name": "stdout",
     "output_type": "stream",
     "text": [
      "['닥터 스트레인지', '슈퍼맨', '스플릿', '배트맨']\n"
     ]
    }
   ],
   "source": [
    "movie_rank = ['닥터 스트레인지', '슈퍼맨', '스플릿', '럭키', '배트맨']\n",
    "del movie_rank[3]\n",
    "print(movie_rank)"
   ]
  },
  {
   "cell_type": "markdown",
   "id": "18d27704",
   "metadata": {},
   "source": [
    "### 055 movie_rank 리스트에서 '스플릿' 과 '배트맨'을 를 삭제하라."
   ]
  },
  {
   "cell_type": "code",
   "execution_count": 12,
   "id": "880825ae",
   "metadata": {},
   "outputs": [
    {
     "name": "stdout",
     "output_type": "stream",
     "text": [
      "['닥터 스트레인지', '슈퍼맨']\n"
     ]
    }
   ],
   "source": [
    "movie_rank = ['닥터 스트레인지', '슈퍼맨', '스플릿', '배트맨']\n",
    "del movie_rank[2]\n",
    "del movie_rank[2]\n",
    "print(movie_rank)"
   ]
  },
  {
   "cell_type": "markdown",
   "id": "6dc0ae63",
   "metadata": {},
   "source": [
    "### 056 lang1과 lang2 리스트가 있을 때 lang1과 lang2의 원소를 모두 갖고 있는 langs 리스트를 만들어라."
   ]
  },
  {
   "cell_type": "code",
   "execution_count": 13,
   "id": "91d93ded",
   "metadata": {},
   "outputs": [
    {
     "name": "stdout",
     "output_type": "stream",
     "text": [
      "['C', 'C++', 'JAVA', 'Python', 'Go', 'C#']\n"
     ]
    }
   ],
   "source": [
    "lang1 = [\"C\", \"C++\", \"JAVA\"]\n",
    "lang2 = [\"Python\", \"Go\", \"C#\"]\n",
    "langs = lang1 + lang2\n",
    "print(langs)"
   ]
  },
  {
   "cell_type": "markdown",
   "id": "91cd2aa1",
   "metadata": {},
   "source": [
    "### 057 다음 리스트에서 최댓값과 최솟값을 출력하라. (힌트: min(), max() 함수 사용)"
   ]
  },
  {
   "cell_type": "code",
   "execution_count": 14,
   "id": "d4af7b99",
   "metadata": {},
   "outputs": [
    {
     "name": "stdout",
     "output_type": "stream",
     "text": [
      "max: 7\n",
      "min: 1\n"
     ]
    }
   ],
   "source": [
    "nums = [1, 2, 3, 4, 5, 6, 7]\n",
    "print(\"max:\", max(nums))\n",
    "print(\"min:\", min(nums))"
   ]
  },
  {
   "cell_type": "markdown",
   "id": "4e67b143",
   "metadata": {},
   "source": [
    "### 058 다음 리스트의 합을 출력하라."
   ]
  },
  {
   "cell_type": "code",
   "execution_count": 16,
   "id": "dc67a60d",
   "metadata": {},
   "outputs": [
    {
     "name": "stdout",
     "output_type": "stream",
     "text": [
      "sum: 15\n"
     ]
    }
   ],
   "source": [
    "nums = [1, 2, 3, 4, 5]\n",
    "print(\"sum:\",sum(nums))"
   ]
  },
  {
   "cell_type": "markdown",
   "id": "afcc3af0",
   "metadata": {},
   "source": [
    "### 059 다음 리스트에 저장된 데이터의 개수를 화면에 구하라."
   ]
  },
  {
   "cell_type": "code",
   "execution_count": 17,
   "id": "59b42888",
   "metadata": {},
   "outputs": [
    {
     "name": "stdout",
     "output_type": "stream",
     "text": [
      "12\n"
     ]
    }
   ],
   "source": [
    "cook = [\"피자\", \"김밥\", \"만두\", \"양념치킨\", \"족발\", \"피자\", \"김치만두\", \"쫄면\", \"소시지\", \"라면\", \"팥빙수\", \"김치전\"]\n",
    "print(len(cook))"
   ]
  },
  {
   "cell_type": "markdown",
   "id": "a764acd4",
   "metadata": {},
   "source": [
    "### 060 다음 리스트의 평균을 출력하라"
   ]
  },
  {
   "cell_type": "code",
   "execution_count": 18,
   "id": "da78a73c",
   "metadata": {},
   "outputs": [
    {
     "name": "stdout",
     "output_type": "stream",
     "text": [
      "3.0\n"
     ]
    }
   ],
   "source": [
    "nums = [1, 2, 3, 4, 5]\n",
    "average = sum(nums) / len(nums)\n",
    "print(average)"
   ]
  },
  {
   "cell_type": "markdown",
   "id": "d087b4cd",
   "metadata": {},
   "source": [
    "### 061 price 변수에는 날짜와 종가 정보가 저장돼 있다. 날짜 정보를 제외하고 가격 정보만을 출력하라. (힌트 : 슬라이싱)"
   ]
  },
  {
   "cell_type": "code",
   "execution_count": 19,
   "id": "ca4ffdf5",
   "metadata": {},
   "outputs": [
    {
     "name": "stdout",
     "output_type": "stream",
     "text": [
      "[100, 130, 140, 150, 160, 170]\n"
     ]
    }
   ],
   "source": [
    "price = ['20180728', 100, 130, 140, 150, 160, 170]\n",
    "print(price[1:])"
   ]
  },
  {
   "cell_type": "markdown",
   "id": "d3daa244",
   "metadata": {},
   "source": [
    "### 062 슬라이싱을 사용해서 홀수만 출력하라."
   ]
  },
  {
   "cell_type": "code",
   "execution_count": 21,
   "id": "bd9265cc",
   "metadata": {},
   "outputs": [
    {
     "name": "stdout",
     "output_type": "stream",
     "text": [
      "[1, 3, 5, 7, 9]\n"
     ]
    }
   ],
   "source": [
    "nums = [1, 2, 3, 4, 5, 6, 7, 8, 9, 10]\n",
    "print(nums[::2])"
   ]
  },
  {
   "cell_type": "markdown",
   "id": "e26da9aa",
   "metadata": {},
   "source": [
    "### 063 슬라이싱을 사용해서 짝수만 출력하라."
   ]
  },
  {
   "cell_type": "code",
   "execution_count": 22,
   "id": "354c3adb",
   "metadata": {},
   "outputs": [
    {
     "name": "stdout",
     "output_type": "stream",
     "text": [
      "[2, 4, 6, 8, 10]\n"
     ]
    }
   ],
   "source": [
    "nums = [1, 2, 3, 4, 5, 6, 7, 8, 9, 10]\n",
    "print(nums[1::2])"
   ]
  },
  {
   "cell_type": "markdown",
   "id": "1c86c463",
   "metadata": {},
   "source": [
    "### 064 슬라이싱을 사용해서 리스트의 숫자를 역 방향으로 출력하라."
   ]
  },
  {
   "cell_type": "code",
   "execution_count": 23,
   "id": "35b57362",
   "metadata": {},
   "outputs": [
    {
     "name": "stdout",
     "output_type": "stream",
     "text": [
      "[5, 4, 3, 2, 1]\n"
     ]
    }
   ],
   "source": [
    "nums = [1, 2, 3, 4, 5]\n",
    "print(nums[::-1])"
   ]
  },
  {
   "cell_type": "markdown",
   "id": "af128ed2",
   "metadata": {},
   "source": [
    "### 065 interest 리스트에는 아래의 데이터가 바인딩되어 있다.\n",
    "interest = ['삼성전자', 'LG전자', 'Naver']\n",
    "interest 리스트를 사용하여 아래와 같이 화면에 출력하라.\n",
    "출력 예시:\n",
    "삼성전자 Naver"
   ]
  },
  {
   "cell_type": "code",
   "execution_count": 24,
   "id": "64ef89b8",
   "metadata": {},
   "outputs": [
    {
     "name": "stdout",
     "output_type": "stream",
     "text": [
      "삼성전자 Naver\n"
     ]
    }
   ],
   "source": [
    "interest = ['삼성전자', 'LG전자', 'Naver']\n",
    "print(interest[0], interest[2])"
   ]
  },
  {
   "cell_type": "markdown",
   "id": "cce66ab2",
   "metadata": {},
   "source": [
    "### 066 join 메서드\n",
    "interest = ['삼성전자', 'LG전자', 'Naver', 'SK하이닉스', '미래에셋대우']\n",
    "interest 리스트를 사용하여 아래와 같이 화면에 출력하라.\n",
    "출력 예시:\n",
    "삼성전자 LG전자 Naver SK하이닉스 미래에셋대우"
   ]
  },
  {
   "cell_type": "code",
   "execution_count": 25,
   "id": "ec3a56d6",
   "metadata": {},
   "outputs": [
    {
     "name": "stdout",
     "output_type": "stream",
     "text": [
      "삼성전자 LG전자 Naver SK하이닉스 미래에셋대우\n"
     ]
    }
   ],
   "source": [
    "interest = ['삼성전자', 'LG전자', 'Naver', 'SK하이닉스', '미래에셋대우']\n",
    "print(interest[0],interest[1],interest[2],interest[3],interest[4])"
   ]
  },
  {
   "cell_type": "code",
   "execution_count": 26,
   "id": "299ee7ca",
   "metadata": {},
   "outputs": [
    {
     "name": "stdout",
     "output_type": "stream",
     "text": [
      "삼성전자 LG전자 Naver SK하이닉스 미래에셋대우\n"
     ]
    }
   ],
   "source": [
    "interest = ['삼성전자', 'LG전자', 'Naver', 'SK하이닉스', '미래에셋대우']\n",
    "print(\" \".join(interest))"
   ]
  },
  {
   "cell_type": "markdown",
   "id": "e940eb2c",
   "metadata": {},
   "source": [
    "### 067 join 메서드"
   ]
  },
  {
   "cell_type": "code",
   "execution_count": 27,
   "id": "21a7e276",
   "metadata": {},
   "outputs": [
    {
     "name": "stdout",
     "output_type": "stream",
     "text": [
      "삼성전자/LG전자/Naver/SK하이닉스/미래에셋대우\n"
     ]
    }
   ],
   "source": [
    "interest = ['삼성전자', 'LG전자', 'Naver', 'SK하이닉스', '미래에셋대우']\n",
    "print(\"/\".join(interest))"
   ]
  },
  {
   "cell_type": "markdown",
   "id": "5094d00e",
   "metadata": {},
   "source": [
    "### 068 join 메서드"
   ]
  },
  {
   "cell_type": "code",
   "execution_count": 32,
   "id": "8fdab735",
   "metadata": {},
   "outputs": [
    {
     "name": "stdout",
     "output_type": "stream",
     "text": [
      "삼성전자\n",
      "LG전자\n",
      "Naver\n",
      "SK하이닉스\n",
      "미래에셋대우\n"
     ]
    }
   ],
   "source": [
    "interest = ['삼성전자', 'LG전자', 'Naver', 'SK하이닉스', '미래에셋대우']\n",
    "print(\"\\n\".join(interest))"
   ]
  },
  {
   "cell_type": "markdown",
   "id": "b2bf4843",
   "metadata": {},
   "source": [
    "### 069 문자열 split 메서드"
   ]
  },
  {
   "cell_type": "code",
   "execution_count": 33,
   "id": "7d793215",
   "metadata": {},
   "outputs": [
    {
     "name": "stdout",
     "output_type": "stream",
     "text": [
      "['삼성전자', 'LG전자', 'Naver']\n"
     ]
    }
   ],
   "source": [
    "string = \"삼성전자/LG전자/Naver\"\n",
    "interest = string.split(\"/\")\n",
    "print(interest)"
   ]
  },
  {
   "cell_type": "markdown",
   "id": "837064e8",
   "metadata": {},
   "source": [
    "### 070 리스트 정렬(오름차순)"
   ]
  },
  {
   "cell_type": "code",
   "execution_count": 34,
   "id": "332dd1d2",
   "metadata": {},
   "outputs": [
    {
     "name": "stdout",
     "output_type": "stream",
     "text": [
      "[1, 2, 3, 4, 5, 9, 10]\n"
     ]
    }
   ],
   "source": [
    "data = [2, 4, 3, 1, 5, 10, 9]\n",
    "data.sort()\n",
    "print(data)"
   ]
  },
  {
   "cell_type": "markdown",
   "id": "b7e44406",
   "metadata": {},
   "source": [
    "### 리스트 정렬(내림차순)"
   ]
  },
  {
   "cell_type": "code",
   "execution_count": 36,
   "id": "734b33c2",
   "metadata": {},
   "outputs": [
    {
     "name": "stdout",
     "output_type": "stream",
     "text": [
      "[10, 9, 5, 4, 3, 2, 1]\n"
     ]
    }
   ],
   "source": [
    "data = [2, 4, 3, 1, 5, 10, 9]\n",
    "data.sort(reverse=True)\n",
    "print(data)"
   ]
  },
  {
   "cell_type": "markdown",
   "id": "04ec7995",
   "metadata": {},
   "source": [
    "### 071 my_variable 이름의 비어있는 튜플을 만들라."
   ]
  },
  {
   "cell_type": "code",
   "execution_count": 38,
   "id": "cf672be9",
   "metadata": {},
   "outputs": [
    {
     "name": "stdout",
     "output_type": "stream",
     "text": [
      "<class 'tuple'>\n"
     ]
    }
   ],
   "source": [
    "my_variable = ()\n",
    "print(type(my_variable))"
   ]
  },
  {
   "cell_type": "markdown",
   "id": "950d9686",
   "metadata": {},
   "source": [
    "### 085 다음 아이스크림 이름과 희망 가격을 딕셔너리로 구성하라."
   ]
  },
  {
   "cell_type": "code",
   "execution_count": 40,
   "id": "0310515d",
   "metadata": {},
   "outputs": [
    {
     "name": "stdout",
     "output_type": "stream",
     "text": [
      "{'메로나': 1000, '폴라포': 1200, '빵빠레': 1800}\n"
     ]
    }
   ],
   "source": [
    "ice = {\"메로나\": 1000, \"폴라포\": 1200, \"빵빠레\": 1800}\n",
    "print(ice)"
   ]
  },
  {
   "cell_type": "markdown",
   "id": "3ce12f4f",
   "metadata": {},
   "source": [
    "### 086 085번의 딕셔너리에 아래 아이스크림 가격정보를 추가하라."
   ]
  },
  {
   "cell_type": "code",
   "execution_count": 41,
   "id": "12ec1284",
   "metadata": {},
   "outputs": [
    {
     "name": "stdout",
     "output_type": "stream",
     "text": [
      "{'메로나': 1000, '폴라포': 1200, '빵빠레': 1800, '죠스바': 1200, '월드콘': 1500}\n"
     ]
    }
   ],
   "source": [
    "ice = {\"메로나\": 1000, \"폴라포\": 1200, \"빵빠레\": 1800}\n",
    "ice[\"죠스바\"] = 1200\n",
    "ice[\"월드콘\"] = 1500\n",
    "print(ice)"
   ]
  },
  {
   "cell_type": "markdown",
   "id": "169e14a7",
   "metadata": {},
   "source": [
    "### 다음 딕셔너리를 사용하여 메로나 가격을 출력하라."
   ]
  },
  {
   "cell_type": "code",
   "execution_count": 42,
   "id": "91d32a85",
   "metadata": {},
   "outputs": [
    {
     "name": "stdout",
     "output_type": "stream",
     "text": [
      "메로나 가격: 1000\n"
     ]
    }
   ],
   "source": [
    "ice = {'메로나': 1000,\n",
    "       '폴로포': 1200,\n",
    "       '빵빠레': 1800,\n",
    "       '죠스바': 1200,\n",
    "       '월드콘': 1500}\n",
    "print(\"메로나 가격:\", ice['메로나'])"
   ]
  },
  {
   "cell_type": "markdown",
   "id": "50c2a116",
   "metadata": {},
   "source": [
    "### 다음 딕셔너리에서 메로나의 가격을 1300으로 수정하라."
   ]
  },
  {
   "cell_type": "code",
   "execution_count": 43,
   "id": "26f63a51",
   "metadata": {},
   "outputs": [
    {
     "name": "stdout",
     "output_type": "stream",
     "text": [
      "메로나 가격: 1300\n"
     ]
    }
   ],
   "source": [
    "ice = {'메로나': 1000,\n",
    "       '폴로포': 1200,\n",
    "       '빵빠레': 1800,\n",
    "       '죠스바': 1200,\n",
    "       '월드콘': 1500}\n",
    "ice[\"메로나\"] = 1300\n",
    "print(\"메로나 가격:\", ice['메로나'])"
   ]
  },
  {
   "cell_type": "code",
   "execution_count": null,
   "id": "d4fafadf",
   "metadata": {},
   "outputs": [],
   "source": []
  },
  {
   "cell_type": "code",
   "execution_count": null,
   "id": "08a39ece",
   "metadata": {},
   "outputs": [],
   "source": []
  },
  {
   "cell_type": "code",
   "execution_count": null,
   "id": "415b10d6",
   "metadata": {},
   "outputs": [],
   "source": []
  },
  {
   "cell_type": "code",
   "execution_count": null,
   "id": "45130b8b",
   "metadata": {},
   "outputs": [],
   "source": []
  },
  {
   "cell_type": "code",
   "execution_count": null,
   "id": "6671a7e6",
   "metadata": {},
   "outputs": [],
   "source": []
  }
 ],
 "metadata": {
  "kernelspec": {
   "display_name": "Python 3 (ipykernel)",
   "language": "python",
   "name": "python3"
  },
  "language_info": {
   "codemirror_mode": {
    "name": "ipython",
    "version": 3
   },
   "file_extension": ".py",
   "mimetype": "text/x-python",
   "name": "python",
   "nbconvert_exporter": "python",
   "pygments_lexer": "ipython3",
   "version": "3.11.5"
  }
 },
 "nbformat": 4,
 "nbformat_minor": 5
}
