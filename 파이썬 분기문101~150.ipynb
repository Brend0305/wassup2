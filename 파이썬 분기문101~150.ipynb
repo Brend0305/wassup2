{
 "cells": [
  {
   "cell_type": "markdown",
   "id": "19814f12",
   "metadata": {},
   "source": [
    "#### 101 파이썬에서 True 혹은 False를 갖는 데이터 타입은 무엇인가?\n",
    "불(Boolean) 자료형"
   ]
  },
  {
   "cell_type": "code",
   "execution_count": 1,
   "id": "753186f1",
   "metadata": {},
   "outputs": [
    {
     "name": "stdout",
     "output_type": "stream",
     "text": [
      "False\n"
     ]
    }
   ],
   "source": [
    "print(3==5)"
   ]
  },
  {
   "cell_type": "code",
   "execution_count": 2,
   "id": "07389b53",
   "metadata": {},
   "outputs": [
    {
     "name": "stdout",
     "output_type": "stream",
     "text": [
      "True\n"
     ]
    }
   ],
   "source": [
    "print(3<5)"
   ]
  },
  {
   "cell_type": "code",
   "execution_count": 3,
   "id": "49c62b00",
   "metadata": {},
   "outputs": [
    {
     "name": "stdout",
     "output_type": "stream",
     "text": [
      "True\n"
     ]
    }
   ],
   "source": [
    "x = 4\n",
    "print(1<x<5)"
   ]
  },
  {
   "cell_type": "code",
   "execution_count": 4,
   "id": "a72684f0",
   "metadata": {},
   "outputs": [
    {
     "name": "stdout",
     "output_type": "stream",
     "text": [
      "True\n"
     ]
    }
   ],
   "source": [
    "print((3==3) and (4!=3))"
   ]
  },
  {
   "cell_type": "code",
   "execution_count": 8,
   "id": "fd5a5efe",
   "metadata": {},
   "outputs": [
    {
     "name": "stdout",
     "output_type": "stream",
     "text": [
      "Hi, there.\n"
     ]
    }
   ],
   "source": [
    "if 4<3:\n",
    "    print(\"Hello World.\")\n",
    "else:\n",
    "    print(\"Hi, there.\")"
   ]
  },
  {
   "cell_type": "code",
   "execution_count": 9,
   "id": "6e785b4e",
   "metadata": {},
   "outputs": [
    {
     "name": "stdout",
     "output_type": "stream",
     "text": [
      "1\n",
      "2\n",
      "4\n"
     ]
    }
   ],
   "source": [
    "if True :\n",
    "    print (\"1\")\n",
    "    print (\"2\")\n",
    "else :\n",
    "    print(\"3\")\n",
    "print(\"4\")"
   ]
  },
  {
   "cell_type": "code",
   "execution_count": 10,
   "id": "ab98bcfb",
   "metadata": {},
   "outputs": [
    {
     "name": "stdout",
     "output_type": "stream",
     "text": [
      "3\n",
      "5\n"
     ]
    }
   ],
   "source": [
    "if True :\n",
    "    if False:\n",
    "        print(\"1\")\n",
    "        print(\"2\")\n",
    "    else:\n",
    "        print(\"3\")\n",
    "else :\n",
    "    print(\"4\")\n",
    "print(\"5\")"
   ]
  },
  {
   "cell_type": "markdown",
   "id": "3d0b97e9",
   "metadata": {},
   "source": [
    "### 111"
   ]
  },
  {
   "cell_type": "code",
   "execution_count": 13,
   "id": "2cee5a41",
   "metadata": {},
   "outputs": [
    {
     "name": "stdout",
     "output_type": "stream",
     "text": [
      "안녕하세요\n",
      "안녕하세요안녕하세요\n"
     ]
    }
   ],
   "source": [
    "data = input(\"\")\n",
    "print(data * 2)"
   ]
  },
  {
   "cell_type": "markdown",
   "id": "3563c7c7",
   "metadata": {},
   "source": [
    "### 112"
   ]
  },
  {
   "cell_type": "code",
   "execution_count": 15,
   "id": "6ed1960f",
   "metadata": {},
   "outputs": [
    {
     "name": "stdout",
     "output_type": "stream",
     "text": [
      "숫자를 입력하세요:30\n",
      "40\n"
     ]
    }
   ],
   "source": [
    "data = input(\"숫자를 입력하세요:\")\n",
    "print(int(data) + 10)"
   ]
  },
  {
   "cell_type": "markdown",
   "id": "6c461d5b",
   "metadata": {},
   "source": [
    "### 113"
   ]
  },
  {
   "cell_type": "code",
   "execution_count": 16,
   "id": "fb9d930e",
   "metadata": {},
   "outputs": [
    {
     "name": "stdout",
     "output_type": "stream",
     "text": [
      ">> 30\n",
      "짝수\n"
     ]
    }
   ],
   "source": [
    "data = input(\">> \")\n",
    "data = int(data)\n",
    "if data % 2 == 0:\n",
    "    print(\"짝수\")\n",
    "else:\n",
    "    print(\"홀수\")"
   ]
  },
  {
   "cell_type": "markdown",
   "id": "e3a15b83",
   "metadata": {},
   "source": [
    "### 114"
   ]
  },
  {
   "cell_type": "code",
   "execution_count": 17,
   "id": "b4a31c55",
   "metadata": {},
   "outputs": [
    {
     "name": "stdout",
     "output_type": "stream",
     "text": [
      "입력값:200\n",
      "220\n"
     ]
    }
   ],
   "source": [
    "data = input(\"입력값:\")\n",
    "data = int(data)\n",
    "data = data + 20\n",
    "if data > 255:\n",
    "    print(255)\n",
    "else:\n",
    "    print(data)"
   ]
  },
  {
   "cell_type": "code",
   "execution_count": 18,
   "id": "8d7678df",
   "metadata": {},
   "outputs": [
    {
     "name": "stdout",
     "output_type": "stream",
     "text": [
      "입력값:240\n",
      "255\n"
     ]
    }
   ],
   "source": [
    "data = input(\"입력값:\")\n",
    "data = int(data)\n",
    "data = data + 20\n",
    "if data > 255:\n",
    "    print(255)\n",
    "else:\n",
    "    print(data)"
   ]
  },
  {
   "cell_type": "markdown",
   "id": "d71921a1",
   "metadata": {},
   "source": [
    "### 115"
   ]
  },
  {
   "cell_type": "code",
   "execution_count": 25,
   "id": "4f6eff58",
   "metadata": {},
   "outputs": [
    {
     "name": "stdout",
     "output_type": "stream",
     "text": [
      "입력값: 90\n",
      "70\n"
     ]
    }
   ],
   "source": [
    "user = input(\"입력값: \")\n",
    "num = int(user) - 20\n",
    "if num > 255:\n",
    "    print(255)\n",
    "elif num < 0:\n",
    "    print(0)\n",
    "else:\n",
    "    print(num)"
   ]
  },
  {
   "cell_type": "markdown",
   "id": "bf9d39da",
   "metadata": {},
   "source": [
    "### 116"
   ]
  },
  {
   "cell_type": "code",
   "execution_count": 26,
   "id": "7ca163a9",
   "metadata": {},
   "outputs": [
    {
     "name": "stdout",
     "output_type": "stream",
     "text": [
      "현재시간:11:34\n",
      "정각이 아닙니다.\n"
     ]
    }
   ],
   "source": [
    "data = input(\"현재시간:\")\n",
    "if data[-2:] == \"00\":\n",
    "    print(\"정각입니다\")\n",
    "else: \n",
    "    print(\"정각이 아닙니다.\")"
   ]
  },
  {
   "cell_type": "markdown",
   "id": "d37869bf",
   "metadata": {},
   "source": [
    "### 117"
   ]
  },
  {
   "cell_type": "code",
   "execution_count": 28,
   "id": "18bc7122",
   "metadata": {},
   "outputs": [
    {
     "name": "stdout",
     "output_type": "stream",
     "text": [
      "좋아하는 과일은?:망고\n",
      "오답입니다.\n"
     ]
    }
   ],
   "source": [
    "fruit = [\"사과\", \"포도\", \"홍시\"]\n",
    "data = input(\"좋아하는 과일은?:\")\n",
    "if data in fruit:\n",
    "    print(\"정답입니다.\")\n",
    "else:\n",
    "    print(\"오답입니다.\")"
   ]
  },
  {
   "cell_type": "markdown",
   "id": "1bec373d",
   "metadata": {},
   "source": [
    "### 118"
   ]
  },
  {
   "cell_type": "code",
   "execution_count": 29,
   "id": "3c41fb40",
   "metadata": {},
   "outputs": [
    {
     "name": "stdout",
     "output_type": "stream",
     "text": [
      "종목명: 애플\n",
      "투자 경고 종목이 아닙니다.\n"
     ]
    }
   ],
   "source": [
    "warn_investment_list = [\"Microsoft\", \"Google\", \"Naver\", \"Kakao\", \"SAMSUNG\", \"LG\"]\n",
    "종목 = input(\"종목명: \")\n",
    "if 종목 in warn_investment_list:\n",
    "    print(\"투자 경고 종목입니다.\")\n",
    "else:\n",
    "    print(\"투자 경고 종목이 아닙니다.\")"
   ]
  },
  {
   "cell_type": "markdown",
   "id": "d1e82d18",
   "metadata": {},
   "source": [
    "### 120"
   ]
  },
  {
   "cell_type": "code",
   "execution_count": 34,
   "id": "6251dbf2",
   "metadata": {},
   "outputs": [
    {
     "name": "stdout",
     "output_type": "stream",
     "text": [
      "좋아하는 과일은?:망고\n",
      "오답입니다.\n"
     ]
    }
   ],
   "source": [
    "fruit = {\"봄\" : \"딸기\", \"여름\" : \"토마토\", \"가을\" : \"사과\"}\n",
    "질문 = input(\"좋아하는 과일은?:\")\n",
    "if 질문 in fruit.values():\n",
    "    print(\"정답입니다.\")\n",
    "else:\n",
    "    print(\"오답입니다.\")"
   ]
  },
  {
   "cell_type": "markdown",
   "id": "b74a2753",
   "metadata": {},
   "source": [
    "### 119"
   ]
  },
  {
   "cell_type": "code",
   "execution_count": 36,
   "id": "b171d79b",
   "metadata": {},
   "outputs": [
    {
     "name": "stdout",
     "output_type": "stream",
     "text": [
      "제가 좋아하는 계절은가을\n",
      "정답입니다.\n"
     ]
    }
   ],
   "source": [
    "fruit = {\"봄\" : \"딸기\", \"여름\" : \"토마토\", \"가을\" : \"사과\"}\n",
    "질문 = input(\"제가 좋아하는 계절은\")\n",
    "if 질문 in fruit:\n",
    "    print(\"정답입니다.\")\n",
    "else:\n",
    "    print(\"오답입니다\")"
   ]
  },
  {
   "cell_type": "markdown",
   "id": "f07bf16c",
   "metadata": {},
   "source": [
    "### 121"
   ]
  },
  {
   "cell_type": "code",
   "execution_count": 37,
   "id": "697762ef",
   "metadata": {},
   "outputs": [
    {
     "name": "stdout",
     "output_type": "stream",
     "text": [
      "a\n",
      "A\n"
     ]
    }
   ],
   "source": [
    "user = input(\"\")\n",
    "if user.islower():\n",
    "    print(user.upper())\n",
    "else:\n",
    "    print(user.lower())"
   ]
  },
  {
   "cell_type": "markdown",
   "id": "8c6c45b7",
   "metadata": {},
   "source": [
    "### 122"
   ]
  },
  {
   "cell_type": "code",
   "execution_count": 38,
   "id": "12ef7549",
   "metadata": {},
   "outputs": [
    {
     "name": "stdout",
     "output_type": "stream",
     "text": [
      "score: 50\n",
      "grade is C\n"
     ]
    }
   ],
   "source": [
    "score = input(\"score: \")\n",
    "score = int(score)\n",
    "if 81 <= score <= 100:\n",
    "    print(\"grade is A\")\n",
    "elif 61 <= score <= 80:\n",
    "    print(\"grade is B\")\n",
    "elif 41 <= score <= 60:\n",
    "    print(\"grade is C\")\n",
    "elif 21 <= score <= 40:\n",
    "    print(\"grade is D\")\n",
    "else:\n",
    "    print(\"grade is E\")"
   ]
  },
  {
   "cell_type": "markdown",
   "id": "165dcfa0",
   "metadata": {},
   "source": [
    "### 123"
   ]
  },
  {
   "cell_type": "code",
   "execution_count": 42,
   "id": "9de8fe44",
   "metadata": {},
   "outputs": [
    {
     "name": "stdout",
     "output_type": "stream",
     "text": [
      "입력: 100 달러\n",
      "116700.0 원\n"
     ]
    }
   ],
   "source": [
    "환율 = {\"달러\": 1167, \n",
    "        \"엔\": 1.096, \n",
    "        \"유로\": 1268, \n",
    "        \"위안\": 171}\n",
    "user = input(\"입력: \")\n",
    "num, currency = user.split()\n",
    "print(float(num) * 환율[currency], \"원\")"
   ]
  },
  {
   "cell_type": "markdown",
   "id": "e9f26329",
   "metadata": {},
   "source": [
    "### 124"
   ]
  },
  {
   "cell_type": "code",
   "execution_count": 43,
   "id": "e365ef2c",
   "metadata": {},
   "outputs": [
    {
     "name": "stdout",
     "output_type": "stream",
     "text": [
      "input number1: 3\n",
      "input number2: 2\n",
      "input number3: 1\n",
      "3\n"
     ]
    }
   ],
   "source": [
    "num1 = input(\"input number1: \")\n",
    "num2 = input(\"input number2: \")\n",
    "num3 = input(\"input number3: \")\n",
    "num1 = int(num1)\n",
    "num2 = int(num2)\n",
    "num3 = int(num3)\n",
    "\n",
    "if num1 >= num2 and num1 >= num3:\n",
    "    print(num1)\n",
    "elif num2 >= num1 and num2 >= num3:\n",
    "    print(num2)\n",
    "else:\n",
    "    print(num3)"
   ]
  },
  {
   "cell_type": "markdown",
   "id": "18a0aa66",
   "metadata": {},
   "source": [
    "### 125"
   ]
  },
  {
   "cell_type": "code",
   "execution_count": 44,
   "id": "c9b3def9",
   "metadata": {},
   "outputs": [
    {
     "name": "stdout",
     "output_type": "stream",
     "text": [
      "휴대전화 번호 입력: 011-345-1922\n",
      "당신은 SKT 사용자입니다.\n"
     ]
    }
   ],
   "source": [
    "number = input(\"휴대전화 번호 입력: \")\n",
    "num = number.split(\"-\")[0]\n",
    "if num == \"011\":\n",
    "    com = \"SKT\"\n",
    "elif num == \"016\":\n",
    "    com = \"KT\"\n",
    "elif num == \"019\":\n",
    "    com = \"LGU\"\n",
    "else:\n",
    "    com = \"알수없음\"\n",
    "print(f\"당신은 {com} 사용자입니다.\")"
   ]
  },
  {
   "cell_type": "markdown",
   "id": "383e8dc5",
   "metadata": {},
   "source": [
    "### 126"
   ]
  },
  {
   "cell_type": "code",
   "execution_count": 45,
   "id": "05a7569e",
   "metadata": {},
   "outputs": [
    {
     "name": "stdout",
     "output_type": "stream",
     "text": [
      "우편번호: 01400\n",
      "도봉구\n"
     ]
    }
   ],
   "source": [
    "우편번호 = input(\"우편번호: \")\n",
    "우편번호 = 우편번호[:3]\n",
    "if 우편번호 in [\"010\", \"011\", \"012\"]:\n",
    "    print(\"강북구\")\n",
    "elif 우편번호 in [\"013\", \"014\", \"015\"]:\n",
    "    print(\"도봉구\")\n",
    "else:\n",
    "    print(\"노원구\")"
   ]
  },
  {
   "cell_type": "markdown",
   "id": "dc08f42a",
   "metadata": {},
   "source": [
    "### 127"
   ]
  },
  {
   "cell_type": "code",
   "execution_count": 46,
   "id": "ce29bab8",
   "metadata": {},
   "outputs": [
    {
     "name": "stdout",
     "output_type": "stream",
     "text": [
      "주민등록번호: 821010-1635210\n",
      "남자\n"
     ]
    }
   ],
   "source": [
    "주민등록번호 = input(\"주민등록번호: \")\n",
    "주민등록번호 = 주민등록번호.split(\"-\")[1]\n",
    "if 주민등록번호[0] == \"1\" or 주민등록번호[0] == \"3\":\n",
    "    print(\"남자\")\n",
    "else:\n",
    "    print(\"여자\")"
   ]
  },
  {
   "cell_type": "markdown",
   "id": "5ef475ca",
   "metadata": {},
   "source": [
    "### 128"
   ]
  },
  {
   "cell_type": "code",
   "execution_count": 49,
   "id": "3082cd2b",
   "metadata": {},
   "outputs": [
    {
     "name": "stdout",
     "output_type": "stream",
     "text": [
      "주민등록번호: 821010-1635210\n",
      "서울이 아닙니다.\n"
     ]
    }
   ],
   "source": [
    "주민번호 = input(\"주민등록번호: \")\n",
    "뒷자리 = 주민번호.split(\"-\")[1]\n",
    "if 0 <= int(뒷자리[1:3]) <= 8:\n",
    "    print(\"서울입니다.\")\n",
    "else:\n",
    "    print(\"서울이 아닙니다.\")"
   ]
  },
  {
   "cell_type": "markdown",
   "id": "3421f4f2",
   "metadata": {},
   "source": [
    "### 129"
   ]
  },
  {
   "cell_type": "code",
   "execution_count": 50,
   "id": "75125a15",
   "metadata": {},
   "outputs": [
    {
     "name": "stdout",
     "output_type": "stream",
     "text": [
      "주민등록번호: 950809-2014425\n",
      "유효하지 않은 주민등록번호입니다.\n"
     ]
    }
   ],
   "source": [
    "num = input(\"주민등록번호: \")\n",
    "계산1 = int(num[0]) * 2 + int(num[1]) * 3 + int(num[2]) * 4 + int(num[3]) * 5 + int(num[4]) * 6 + \\\n",
    "        int(num[5]) * 7 + int(num[7]) * 8 + int(num[8]) * 9 + int(num[9]) * 2 + int(num[10])* 3 + \\\n",
    "        int(num[11])* 4 + int(num[12]) * 5\n",
    "계산2 = 11 - (계산1 % 11)\n",
    "계산3 = str(계산2)\n",
    "\n",
    "if num[-1] == 계산3[-1]:\n",
    "    print(\"유효한 주민등록번호입니다.\")\n",
    "else:\n",
    "    print(\"유효하지 않은 주민등록번호입니다.\")"
   ]
  },
  {
   "cell_type": "markdown",
   "id": "0b8a9387",
   "metadata": {},
   "source": [
    "### 130"
   ]
  },
  {
   "cell_type": "code",
   "execution_count": 52,
   "id": "1ccd6536",
   "metadata": {},
   "outputs": [
    {
     "name": "stdout",
     "output_type": "stream",
     "text": [
      "상승장\n"
     ]
    }
   ],
   "source": [
    "btc = requests.get(\"https://api.bithumb.com/public/ticker/\").json()['data']\n",
    "\n",
    "변동폭 = float(btc['max_price']) - float(btc['min_price'])\n",
    "시가 = float(btc['opening_price'])\n",
    "최고가 = float(btc['max_price'])\n",
    "\n",
    "if (시가+변동폭) > 최고가:\n",
    "    print(\"상승장\")\n",
    "else:\n",
    "    print(\"하락장\")"
   ]
  },
  {
   "cell_type": "markdown",
   "id": "c6f8bc84",
   "metadata": {},
   "source": [
    "### 131"
   ]
  },
  {
   "cell_type": "code",
   "execution_count": 53,
   "id": "22467262",
   "metadata": {},
   "outputs": [
    {
     "name": "stdout",
     "output_type": "stream",
     "text": [
      "사과\n",
      "귤\n",
      "수박\n"
     ]
    }
   ],
   "source": [
    "과일 = [\"사과\", \"귤\", \"수박\"]\n",
    "for 변수 in 과일:\n",
    "    print(변수)"
   ]
  },
  {
   "cell_type": "markdown",
   "id": "93ac0bc6",
   "metadata": {},
   "source": [
    "### 132"
   ]
  },
  {
   "cell_type": "code",
   "execution_count": 54,
   "id": "04ab716e",
   "metadata": {},
   "outputs": [
    {
     "name": "stdout",
     "output_type": "stream",
     "text": [
      "#####\n",
      "#####\n",
      "#####\n"
     ]
    }
   ],
   "source": [
    "과일 = [\"사과\", \"귤\", \"수박\"]\n",
    "for 변수 in 과일:\n",
    "    print('#####')"
   ]
  },
  {
   "cell_type": "markdown",
   "id": "c3cecffd",
   "metadata": {},
   "source": [
    "### 133"
   ]
  },
  {
   "cell_type": "code",
   "execution_count": 55,
   "id": "5725e0ff",
   "metadata": {},
   "outputs": [
    {
     "name": "stdout",
     "output_type": "stream",
     "text": [
      "A\n",
      "B\n",
      "C\n"
     ]
    }
   ],
   "source": [
    "for 변수 in [\"A\", \"B\", \"C\"]:\n",
    "    print(변수)"
   ]
  },
  {
   "cell_type": "markdown",
   "id": "0c788295",
   "metadata": {},
   "source": [
    "### 134"
   ]
  },
  {
   "cell_type": "code",
   "execution_count": 56,
   "id": "64f0ae12",
   "metadata": {},
   "outputs": [
    {
     "name": "stdout",
     "output_type": "stream",
     "text": [
      "출력 A\n",
      "출력 B\n",
      "출력 C\n"
     ]
    }
   ],
   "source": [
    "for 변수 in [\"A\", \"B\", \"C\"]:\n",
    "    print(\"출력\", 변수)"
   ]
  },
  {
   "cell_type": "markdown",
   "id": "fadf953a",
   "metadata": {},
   "source": [
    "### 135"
   ]
  },
  {
   "cell_type": "code",
   "execution_count": 57,
   "id": "3e933e2c",
   "metadata": {},
   "outputs": [
    {
     "name": "stdout",
     "output_type": "stream",
     "text": [
      "변환: a\n",
      "변환: b\n",
      "변환: c\n"
     ]
    }
   ],
   "source": [
    "for 변수 in [\"A\", \"B\", \"C\"]:\n",
    "    b = 변수.lower()\n",
    "    print(\"변환:\", b)"
   ]
  },
  {
   "cell_type": "markdown",
   "id": "89c12586",
   "metadata": {},
   "source": [
    "### 136"
   ]
  },
  {
   "cell_type": "code",
   "execution_count": 58,
   "id": "113d326f",
   "metadata": {},
   "outputs": [
    {
     "name": "stdout",
     "output_type": "stream",
     "text": [
      "10\n",
      "20\n",
      "30\n"
     ]
    }
   ],
   "source": [
    "변수 = 10\n",
    "print(변수)\n",
    "변수 = 20\n",
    "print(변수)\n",
    "변수 = 30\n",
    "print(변수)"
   ]
  },
  {
   "cell_type": "markdown",
   "id": "f795d35e",
   "metadata": {},
   "source": [
    "### 139"
   ]
  },
  {
   "cell_type": "code",
   "execution_count": 59,
   "id": "42e8fe9f",
   "metadata": {},
   "outputs": [
    {
     "name": "stdout",
     "output_type": "stream",
     "text": [
      "++++\n",
      "10\n",
      "20\n",
      "30\n"
     ]
    }
   ],
   "source": [
    "print(\"++++\")\n",
    "for 변수 in [10, 20, 30]:\n",
    "    print(변수)"
   ]
  },
  {
   "cell_type": "markdown",
   "id": "1fc01ecc",
   "metadata": {},
   "source": [
    "### 141"
   ]
  },
  {
   "cell_type": "code",
   "execution_count": 60,
   "id": "9ab2d662",
   "metadata": {},
   "outputs": [
    {
     "name": "stdout",
     "output_type": "stream",
     "text": [
      "110\n",
      "210\n",
      "310\n"
     ]
    }
   ],
   "source": [
    "리스트 = [100, 200, 300]\n",
    "for 변수 in 리스트:\n",
    "    print(변수+10)"
   ]
  },
  {
   "cell_type": "markdown",
   "id": "abe11748",
   "metadata": {},
   "source": [
    "### 142"
   ]
  },
  {
   "cell_type": "code",
   "execution_count": 61,
   "id": "1df25e9f",
   "metadata": {},
   "outputs": [
    {
     "name": "stdout",
     "output_type": "stream",
     "text": [
      "오늘의 메뉴:김밥\n"
     ]
    }
   ],
   "source": [
    "메뉴 = \"김밥\"\n",
    "print(\"오늘의 메뉴:\" + 메뉴)"
   ]
  },
  {
   "cell_type": "code",
   "execution_count": 62,
   "id": "064d31c8",
   "metadata": {},
   "outputs": [
    {
     "name": "stdout",
     "output_type": "stream",
     "text": [
      "오늘의 메뉴:김밥\n",
      "오늘의 메뉴:라면\n",
      "오늘의 메뉴:튀김\n"
     ]
    }
   ],
   "source": [
    "리스트 = [\"김밥\", \"라면\", \"튀김\"]\n",
    "for 메뉴 in 리스트:\n",
    "    print(\"오늘의 메뉴:\" + 메뉴)"
   ]
  },
  {
   "cell_type": "markdown",
   "id": "f1cfb2ef",
   "metadata": {},
   "source": [
    "### 143"
   ]
  },
  {
   "cell_type": "code",
   "execution_count": 64,
   "id": "31f7418f",
   "metadata": {},
   "outputs": [
    {
     "name": "stdout",
     "output_type": "stream",
     "text": [
      "6\n",
      "4\n",
      "4\n"
     ]
    }
   ],
   "source": [
    "리스트 = [\"SK하이닉스\", \"삼성전자\", \"LG전자\"]\n",
    "for 종목명 in 리스트:\n",
    "    print(len(종목명))"
   ]
  },
  {
   "cell_type": "markdown",
   "id": "299ae12b",
   "metadata": {},
   "source": [
    "### 144"
   ]
  },
  {
   "cell_type": "code",
   "execution_count": 67,
   "id": "81bd2ef5",
   "metadata": {},
   "outputs": [
    {
     "name": "stdout",
     "output_type": "stream",
     "text": [
      "dog 3\n",
      "cat 3\n",
      "parrot 6\n"
     ]
    }
   ],
   "source": [
    "리스트 = ['dog', 'cat', 'parrot']\n",
    "for 동물이름 in 리스트:\n",
    "    print(동물이름, len(동물이름))"
   ]
  },
  {
   "cell_type": "markdown",
   "id": "f12617eb",
   "metadata": {},
   "source": [
    "### 145"
   ]
  },
  {
   "cell_type": "code",
   "execution_count": 68,
   "id": "5ca407a0",
   "metadata": {},
   "outputs": [
    {
     "name": "stdout",
     "output_type": "stream",
     "text": [
      "d\n",
      "c\n",
      "p\n"
     ]
    }
   ],
   "source": [
    "리스트 = ['dog', 'cat', 'parrot']\n",
    "for 이름 in 리스트:\n",
    "    print(이름[0])"
   ]
  },
  {
   "cell_type": "markdown",
   "id": "01581635",
   "metadata": {},
   "source": [
    "### 146"
   ]
  },
  {
   "cell_type": "code",
   "execution_count": 69,
   "id": "979d9c59",
   "metadata": {},
   "outputs": [
    {
     "name": "stdout",
     "output_type": "stream",
     "text": [
      "3 x 1\n",
      "3 x 2\n",
      "3 x 3\n"
     ]
    }
   ],
   "source": [
    "리스트 = [1, 2, 3]\n",
    "for 변수 in 리스트:\n",
    "    print(\"3 x\", 변수)"
   ]
  },
  {
   "cell_type": "markdown",
   "id": "92e316a3",
   "metadata": {},
   "source": [
    "### 147"
   ]
  },
  {
   "cell_type": "code",
   "execution_count": 70,
   "id": "5abe6226",
   "metadata": {},
   "outputs": [
    {
     "name": "stdout",
     "output_type": "stream",
     "text": [
      "3 x 1 = 3\n",
      "3 x 2 = 6\n",
      "3 x 3 = 9\n"
     ]
    }
   ],
   "source": [
    "리스트 = [1, 2, 3]\n",
    "for 변수 in 리스트:\n",
    "    print(\"3 x\", 변수, \"=\", 3 * 변수)"
   ]
  },
  {
   "cell_type": "markdown",
   "id": "b0eb4ca2",
   "metadata": {},
   "source": [
    "### 148"
   ]
  },
  {
   "cell_type": "code",
   "execution_count": 71,
   "id": "a519f0c6",
   "metadata": {},
   "outputs": [
    {
     "name": "stdout",
     "output_type": "stream",
     "text": [
      "나\n",
      "다\n",
      "라\n"
     ]
    }
   ],
   "source": [
    "리스트 = [\"가\", \"나\", \"다\", \"라\"]\n",
    "for 문자 in 리스트[1:]:\n",
    "    print(문자)"
   ]
  },
  {
   "cell_type": "markdown",
   "id": "ed58dfd7",
   "metadata": {},
   "source": [
    "### 149"
   ]
  },
  {
   "cell_type": "code",
   "execution_count": 72,
   "id": "18f08d1b",
   "metadata": {},
   "outputs": [
    {
     "name": "stdout",
     "output_type": "stream",
     "text": [
      "가\n",
      "다\n"
     ]
    }
   ],
   "source": [
    "리스트 = [\"가\", \"나\", \"다\", \"라\"]\n",
    "for 문자 in 리스트[: :2]:\n",
    "    print(문자)"
   ]
  },
  {
   "cell_type": "markdown",
   "id": "13d7e53f",
   "metadata": {},
   "source": [
    "### 150"
   ]
  },
  {
   "cell_type": "code",
   "execution_count": 73,
   "id": "e8990b46",
   "metadata": {},
   "outputs": [
    {
     "name": "stdout",
     "output_type": "stream",
     "text": [
      "라\n",
      "다\n",
      "나\n",
      "가\n"
     ]
    }
   ],
   "source": [
    "리스트 = [\"가\", \"나\", \"다\", \"라\"]\n",
    "for 문자 in 리스트[: :-1]:\n",
    "    print(문자)"
   ]
  }
 ],
 "metadata": {
  "kernelspec": {
   "display_name": "Python 3 (ipykernel)",
   "language": "python",
   "name": "python3"
  },
  "language_info": {
   "codemirror_mode": {
    "name": "ipython",
    "version": 3
   },
   "file_extension": ".py",
   "mimetype": "text/x-python",
   "name": "python",
   "nbconvert_exporter": "python",
   "pygments_lexer": "ipython3",
   "version": "3.11.5"
  }
 },
 "nbformat": 4,
 "nbformat_minor": 5
}
